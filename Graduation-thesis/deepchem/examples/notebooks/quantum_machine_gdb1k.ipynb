{
 "cells": [
  {
   "cell_type": "markdown",
   "metadata": {
    "collapsed": true
   },
   "source": [
    "Setting up imports"
   ]
  },
  {
   "cell_type": "code",
   "execution_count": null,
   "metadata": {
    "collapsed": false
   },
   "outputs": [],
   "source": [
    "%load_ext autoreload\n",
    "%autoreload 2\n",
    "%pdb off\n",
    "__author__ = \"Joseph Gomes and Bharath Ramsundar\"\n",
    "__copyright__ = \"Copyright 2016, Stanford University\"\n",
    "__license__ = \"LGPL\"\n",
    "\n",
    "import os\n",
    "import unittest\n",
    "\n",
    "import numpy as np\n",
    "import deepchem as dc\n",
    "import numpy.random\n",
    "from deepchem.utils.evaluate import Evaluator\n",
    "from sklearn.ensemble import RandomForestRegressor\n",
    "from sklearn.kernel_ridge import KernelRidge"
   ]
  },
  {
   "cell_type": "markdown",
   "metadata": {},
   "source": [
    "Setting up model variables"
   ]
  },
  {
   "cell_type": "code",
   "execution_count": null,
   "metadata": {
    "collapsed": false
   },
   "outputs": [],
   "source": [
    "featurizer = dc.feat.CoulombMatrixEig(23, remove_hydrogens=False)\n",
    "tasks = [\"atomization_energy\"]\n",
    "dataset_file = \"../../datasets/gdb1k.sdf\"\n",
    "smiles_field = \"smiles\"\n",
    "mol_field = \"mol\""
   ]
  },
  {
   "cell_type": "markdown",
   "metadata": {},
   "source": [
    "Load featurized data"
   ]
  },
  {
   "cell_type": "code",
   "execution_count": null,
   "metadata": {
    "collapsed": false
   },
   "outputs": [],
   "source": [
    "loader = dc.data.SDFLoader(\n",
    "      tasks=[\"atomization_energy\"], smiles_field=\"smiles\",\n",
    "      featurizer=featurizer,\n",
    "      mol_field=\"mol\")\n",
    "dataset = loader.featurize(dataset_file)"
   ]
  },
  {
   "cell_type": "markdown",
   "metadata": {},
   "source": [
    "Perform Train, Validation, and Testing Split"
   ]
  },
  {
   "cell_type": "code",
   "execution_count": null,
   "metadata": {
    "collapsed": false
   },
   "outputs": [],
   "source": [
    "random_splitter = dc.splits.RandomSplitter()\n",
    "train_dataset, valid_dataset, test_dataset = random_splitter.train_valid_test_split(dataset)"
   ]
  },
  {
   "cell_type": "markdown",
   "metadata": {},
   "source": [
    "Transforming datasets"
   ]
  },
  {
   "cell_type": "code",
   "execution_count": null,
   "metadata": {
    "collapsed": false
   },
   "outputs": [],
   "source": [
    "transformers = [\n",
    "    dc.trans.NormalizationTransformer(transform_X=True, dataset=train_dataset),\n",
    "    dc.trans.NormalizationTransformer(transform_y=True, dataset=train_dataset)]\n",
    "\n",
    "for dataset in [train_dataset, valid_dataset, test_dataset]:\n",
    "  for transformer in transformers:\n",
    "      dataset = transformer.transform(dataset)"
   ]
  },
  {
   "cell_type": "markdown",
   "metadata": {
    "collapsed": true
   },
   "source": [
    "Fit Random Forest with hyperparameter search"
   ]
  },
  {
   "cell_type": "code",
   "execution_count": null,
   "metadata": {
    "collapsed": false,
    "scrolled": true
   },
   "outputs": [],
   "source": [
    "def rf_model_builder(model_params, model_dir):\n",
    "  sklearn_model = RandomForestRegressor(**model_params)\n",
    "  return dc.models.SklearnModel(sklearn_model, model_dir)\n",
    "params_dict = {\n",
    "    \"n_estimators\": [10, 100],\n",
    "    \"max_features\": [\"auto\", \"sqrt\", \"log2\", None],\n",
    "}\n",
    "\n",
    "metric = dc.metrics.Metric(dc.metrics.mean_absolute_error)\n",
    "optimizer = dc.hyper.HyperparamOpt(rf_model_builder)\n",
    "best_rf, best_rf_hyperparams, all_rf_results = optimizer.hyperparam_search(\n",
    "    params_dict, train_dataset, valid_dataset, transformers,\n",
    "    metric=metric)"
   ]
  },
  {
   "cell_type": "code",
   "execution_count": null,
   "metadata": {
    "collapsed": false
   },
   "outputs": [],
   "source": [
    "def krr_model_builder(model_params, model_dir):\n",
    "  sklearn_model = KernelRidge(**model_params)\n",
    "  return dc.models.SklearnModel(sklearn_model, model_dir)\n",
    "\n",
    "params_dict = {\n",
    "    \"kernel\": [\"laplacian\"],\n",
    "    \"alpha\": [0.0001],\n",
    "    \"gamma\": [0.0001]\n",
    "}\n",
    "\n",
    "metric = dc.metrics.Metric(dc.metrics.mean_absolute_error)\n",
    "optimizer = dc.hyper.HyperparamOpt(krr_model_builder)\n",
    "best_krr, best_krr_hyperparams, all_krr_results = optimizer.hyperparam_search(\n",
    "    params_dict, train_dataset, valid_dataset, transformers,\n",
    "    metric=metric)"
   ]
  }
 ],
 "metadata": {
  "kernelspec": {
   "display_name": "Python 2",
   "language": "python",
   "name": "python2"
  },
  "language_info": {
   "codemirror_mode": {
    "name": "ipython",
    "version": 2
   },
   "file_extension": ".py",
   "mimetype": "text/x-python",
   "name": "python",
   "nbconvert_exporter": "python",
   "pygments_lexer": "ipython2",
   "version": "2.7.13"
  }
 },
 "nbformat": 4,
 "nbformat_minor": 1
}
